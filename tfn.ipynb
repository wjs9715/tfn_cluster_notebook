{
 "cells": [
  {
   "cell_type": "code",
   "execution_count": 22,
   "metadata": {
    "collapsed": false
   },
   "outputs": [],
   "source": [
    "import pandas as pd\n",
    "import numpy as np\n",
    "from sklearn.cluster import KMeans\n",
    "from sklearn import preprocessing\n",
    "import matplotlib.pyplot as plt\n",
    "from sklearn.preprocessing import MinMaxScaler"
   ]
  },
  {
   "cell_type": "code",
   "execution_count": 2,
   "metadata": {
    "collapsed": false
   },
   "outputs": [
    {
     "name": "stdout",
     "output_type": "stream",
     "text": [
      "    RowID      Distillery  Body  Sweetness  Smoky  Medicinal  Tobacco  Honey  \\\n",
      "0       1       Aberfeldy     2          2      2          0        0      2   \n",
      "1       2        Aberlour     3          3      1          0        0      4   \n",
      "2       3          AnCnoc     1          3      2          0        0      2   \n",
      "3       4          Ardbeg     4          1      4          4        0      0   \n",
      "4       5         Ardmore     2          2      2          0        0      1   \n",
      "5       6     ArranIsleOf     2          3      1          1        0      1   \n",
      "6       7    Auchentoshan     0          2      0          0        0      1   \n",
      "7       8       Auchroisk     2          3      1          0        0      2   \n",
      "8       9        Aultmore     2          2      1          0        0      1   \n",
      "9      10        Balblair     2          3      2          1        0      0   \n",
      "10     11       Balmenach     4          3      2          0        0      2   \n",
      "11     12        Belvenie     3          2      1          0        0      3   \n",
      "12     13        BenNevis     4          2      2          0        0      2   \n",
      "13     14        Benriach     2          2      1          0        0      2   \n",
      "14     15       Benrinnes     3          2      2          0        0      3   \n",
      "15     16       Benromach     2          2      2          0        0      2   \n",
      "16     17        Bladnoch     1          2      1          0        0      0   \n",
      "17     18      BlairAthol     2          2      2          0        0      1   \n",
      "18     19         Bowmore     2          2      3          1        0      2   \n",
      "19     20   Bruichladdich     1          1      2          2        0      2   \n",
      "20     21    Bunnahabhain     1          2      1          1        0      1   \n",
      "21     22        Caol Ila     3          1      4          2        1      0   \n",
      "22     23          Cardhu     1          3      1          0        0      1   \n",
      "23     24       Clynelish     3          2      3          3        1      0   \n",
      "24     25   Craigallechie     2          2      2          0        1      2   \n",
      "25     26    Craigganmore     2          3      2          1        0      0   \n",
      "26     27       Dailuaine     4          2      2          0        0      1   \n",
      "27     28         Dalmore     3          2      2          1        0      1   \n",
      "28     29      Dalwhinnie     2          2      2          0        0      2   \n",
      "29     30        Deanston     2          2      1          0        0      2   \n",
      "..    ...             ...   ...        ...    ...        ...      ...    ...   \n",
      "56     57       Knochando     2          3      1          0        0      2   \n",
      "57     58       Lagavulin     4          1      4          4        1      0   \n",
      "58     59        Laphroig     4          2      4          4        1      0   \n",
      "59     60        Linkwood     2          3      1          0        0      1   \n",
      "60     61     Loch Lomond     1          1      1          1        0      1   \n",
      "61     62        Longmorn     3          2      1          0        0      1   \n",
      "62     63        Macallan     4          3      1          0        0      2   \n",
      "63     64     Mannochmore     2          1      1          0        0      1   \n",
      "64     65      Miltonduff     2          4      1          0        0      1   \n",
      "65     66        Mortlach     3          2      2          0        0      2   \n",
      "66     67            Oban     2          2      2          2        0      0   \n",
      "67     68  OldFettercairn     1          2      2          0        1      2   \n",
      "68     69     OldPulteney     2          1      2          2        1      0   \n",
      "69     70    RoyalBrackla     2          3      2          1        1      1   \n",
      "70     71  RoyalLochnagar     3          2      2          0        0      2   \n",
      "71     72           Scapa     2          2      1          1        0      2   \n",
      "72     73        Speyburn     2          4      1          0        0      2   \n",
      "73     74        Speyside     2          2      1          0        0      1   \n",
      "74     75      Springbank     2          2      2          2        0      2   \n",
      "75     76      Strathisla     2          2      1          0        0      2   \n",
      "76     77      Strathmill     2          3      1          0        0      0   \n",
      "77     78        Talisker     4          2      3          3        0      1   \n",
      "78     79          Tamdhu     1          2      1          0        0      2   \n",
      "79     80      Tamnavulin     1          3      2          0        0      0   \n",
      "80     81       Teaninich     2          2      2          1        0      0   \n",
      "81     82       Tobermory     1          1      1          0        0      1   \n",
      "82     83         Tomatin     2          3      2          0        0      2   \n",
      "83     84       Tomintoul     0          3      1          0        0      2   \n",
      "84     85         Tormore     2          2      1          0        0      1   \n",
      "85     86    Tullibardine     2          3      0          0        1      0   \n",
      "\n",
      "    Spicy  Winey  Nutty  Malty  Fruity  Floral     Postcode   Latitude  \\\n",
      "0       1      2      2      2       2       2   \\tPH15 2EB     286580   \n",
      "1       3      2      2      3       3       2   \\tAB38 9PJ     326340   \n",
      "2       0      0      2      2       3       2    \\tAB5 5LI     352960   \n",
      "3       2      0      1      2       1       0   \\tPA42 7EB     141560   \n",
      "4       1      1      2      3       1       1   \\tAB54 4NH     355350   \n",
      "5       1      1      0      1       1       2     KA27 8HJ     194050   \n",
      "6       1      0      2      2       3       3      G81 4SJ     247670   \n",
      "7       1      2      2      2       2       1   \\tAB55 3XS     340754   \n",
      "8       0      0      2      2       2       2   \\tAB55 3QY     340754   \n",
      "9       2      0      2      1       2       1   \\tIV19 1LB     270820   \n",
      "10      1      3      3      0       1       2   \\tPH26 3PF     307750   \n",
      "11      2      1      0      2       2       2   \\tAB55 4DH     332680   \n",
      "12      2      0      2      2       2       2   \\tPH33 6TJ     212600   \n",
      "13      2      0      0      2       3       2   \\tIV30 8SJ     323450   \n",
      "14      1      1      2      3       2       2   \\tAB38 9NN     325800   \n",
      "15      2      1      2      2       2       2   \\tIV36 3EB     303330   \n",
      "16      1      1      0      2       2       3    \\tDG8 9AB     242260   \n",
      "17      2      2      2      2       2       2   \\tPH16 5LY     294860   \n",
      "18      2      1      1      1       1       2   \\tPA43 7GS     131330   \n",
      "19      2      1      2      2       2       2     PA49 7UN     126680   \n",
      "20      1      1      1      2       2       3     PA46 7RR     142210   \n",
      "21      2      0      2      1       1       1   \\tPA46 7RL     142920   \n",
      "22      1      0      2      2       2       2   \\tAB38 7RY     318790   \n",
      "23      2      0      1      1       2       0    \\tKW9 6LB     290250   \n",
      "24      2      1      2      2       1       4     AB38 9ST     328920   \n",
      "25      1      0      2      2       2       2     AB37 9AB     316600   \n",
      "26      2      2      2      2       2       1   \\tAB38 7RE     323520   \n",
      "27      2      2      1      2       3       1   \\tIV17 0UT     266610   \n",
      "28      1      0      1      2       2       2   \\tPH19 1AB     263670   \n",
      "29      1      1      1      3       2       1     FK16 6AG     271570   \n",
      "..    ...    ...    ...    ...     ...     ...          ...        ...   \n",
      "56      2      1      2      1       2       2     AB38 7RT     319470   \n",
      "57      1      2      1      1       1       0     PA42 7DZ     140430   \n",
      "58      0      1      1      1       0       0     PA42 7DU     138680   \n",
      "59      1      2      0      1       3       2     IV30 3RD     322640   \n",
      "60      1      0      1      2       1       2      G83 0TL     239370   \n",
      "61      1      1      3      3       2       3     IV30 3SJ     322640   \n",
      "62      1      4      2      2       3       1     AB38 9RX     327710   \n",
      "63      1      1      2      1       2       2     IV30 3SS     322640   \n",
      "64      0      0      2      1       1       2     IV30 3TQ     322640   \n",
      "65      3      3      2      1       2       2     AB55 4AQ     332950   \n",
      "66      2      0      2      2       2       0     PA34 5NH     185940   \n",
      "67      2      1      2      3       1       1     AB30 1YE     370860   \n",
      "68      1      1      2      2       2       2      KW1 5BA     336730   \n",
      "69      2      1      0      2       3       2     IV12 5QY     286040   \n",
      "70      2      2      2      2       3       1     AB35 5TB     326140   \n",
      "71      1      1      2      2       2       2     KW15 1SE     342850   \n",
      "72      1      0      0      2       1       2     AB38 7AG     326930   \n",
      "73      0      1      2      2       2       2     PH21 1NS     278740   \n",
      "74      2      1      2      1       0       1     PA28 6EJ     172280   \n",
      "75      2      2      3      3       3       2     AB55 3BS     340754   \n",
      "76      2      0      2      1       3       2     AB55 5DQ     342650   \n",
      "77      3      0      1      2       2       0     IV47 8SR     137950   \n",
      "78      0      1      1      2       2       2     AB38 7RP     319210   \n",
      "79      2      0      2      1       2       3     AB37 9JA     321180   \n",
      "80      2      0      0      0       2       2     IV17 0XB     265360   \n",
      "81      0      0      1      2       2       2     PA75 6NR     150450   \n",
      "82      2      1      1      2       0       1     IV13 7YT     279120   \n",
      "83      2      1      1      2       1       2     AB37 9AQ     315100   \n",
      "84      0      1      2      1       0       0     PH26 3LR     315180   \n",
      "85      2      1      1      2       2       1      PH4 1QG     289690   \n",
      "\n",
      "     Longitude  \n",
      "0       749680  \n",
      "1       842570  \n",
      "2       839320  \n",
      "3       646220  \n",
      "4       829140  \n",
      "5       649950  \n",
      "6       672610  \n",
      "7       848623  \n",
      "8       848623  \n",
      "9       885770  \n",
      "10      827170  \n",
      "11      840840  \n",
      "12      775710  \n",
      "13      858380  \n",
      "14      839920  \n",
      "15      859350  \n",
      "16      554260  \n",
      "17      757580  \n",
      "18      659720  \n",
      "19      661400  \n",
      "20      673170  \n",
      "21      670040  \n",
      "22      843090  \n",
      "23      904230  \n",
      "24      844920  \n",
      "25      836370  \n",
      "26      841010  \n",
      "27      868730  \n",
      "28      785270  \n",
      "29      701570  \n",
      "..         ...  \n",
      "56      841570  \n",
      "57      645730  \n",
      "58      645160  \n",
      "59      861040  \n",
      "60      680920  \n",
      "61      861040  \n",
      "62      844480  \n",
      "63      861040  \n",
      "64      861040  \n",
      "65      839850  \n",
      "66      730190  \n",
      "67      772900  \n",
      "68      950130  \n",
      "69      851320  \n",
      "70      794370  \n",
      "71     1008930  \n",
      "72      851430  \n",
      "73      800600  \n",
      "74      620910  \n",
      "75      848623  \n",
      "76      850500  \n",
      "77      831770  \n",
      "78      841760  \n",
      "79      826110  \n",
      "80      869120  \n",
      "81      755070  \n",
      "82      829630  \n",
      "83      825560  \n",
      "84      834960  \n",
      "85      708850  \n",
      "\n",
      "[86 rows x 17 columns]\n"
     ]
    }
   ],
   "source": [
    "df=pd.read_csv('./whiskies.csv')\n",
    "print(df)"
   ]
  },
  {
   "cell_type": "code",
   "execution_count": 3,
   "metadata": {
    "collapsed": false
   },
   "outputs": [
    {
     "name": "stdout",
     "output_type": "stream",
     "text": [
      "    Body  Sweetness  Smoky  Medicinal  Tobacco  Honey  Spicy  Winey  Nutty  \\\n",
      "0      2          2      2          0        0      2      1      2      2   \n",
      "1      3          3      1          0        0      4      3      2      2   \n",
      "2      1          3      2          0        0      2      0      0      2   \n",
      "3      4          1      4          4        0      0      2      0      1   \n",
      "4      2          2      2          0        0      1      1      1      2   \n",
      "5      2          3      1          1        0      1      1      1      0   \n",
      "6      0          2      0          0        0      1      1      0      2   \n",
      "7      2          3      1          0        0      2      1      2      2   \n",
      "8      2          2      1          0        0      1      0      0      2   \n",
      "9      2          3      2          1        0      0      2      0      2   \n",
      "10     4          3      2          0        0      2      1      3      3   \n",
      "11     3          2      1          0        0      3      2      1      0   \n",
      "12     4          2      2          0        0      2      2      0      2   \n",
      "13     2          2      1          0        0      2      2      0      0   \n",
      "14     3          2      2          0        0      3      1      1      2   \n",
      "15     2          2      2          0        0      2      2      1      2   \n",
      "16     1          2      1          0        0      0      1      1      0   \n",
      "17     2          2      2          0        0      1      2      2      2   \n",
      "18     2          2      3          1        0      2      2      1      1   \n",
      "19     1          1      2          2        0      2      2      1      2   \n",
      "20     1          2      1          1        0      1      1      1      1   \n",
      "21     3          1      4          2        1      0      2      0      2   \n",
      "22     1          3      1          0        0      1      1      0      2   \n",
      "23     3          2      3          3        1      0      2      0      1   \n",
      "24     2          2      2          0        1      2      2      1      2   \n",
      "25     2          3      2          1        0      0      1      0      2   \n",
      "26     4          2      2          0        0      1      2      2      2   \n",
      "27     3          2      2          1        0      1      2      2      1   \n",
      "28     2          2      2          0        0      2      1      0      1   \n",
      "29     2          2      1          0        0      2      1      1      1   \n",
      "..   ...        ...    ...        ...      ...    ...    ...    ...    ...   \n",
      "56     2          3      1          0        0      2      2      1      2   \n",
      "57     4          1      4          4        1      0      1      2      1   \n",
      "58     4          2      4          4        1      0      0      1      1   \n",
      "59     2          3      1          0        0      1      1      2      0   \n",
      "60     1          1      1          1        0      1      1      0      1   \n",
      "61     3          2      1          0        0      1      1      1      3   \n",
      "62     4          3      1          0        0      2      1      4      2   \n",
      "63     2          1      1          0        0      1      1      1      2   \n",
      "64     2          4      1          0        0      1      0      0      2   \n",
      "65     3          2      2          0        0      2      3      3      2   \n",
      "66     2          2      2          2        0      0      2      0      2   \n",
      "67     1          2      2          0        1      2      2      1      2   \n",
      "68     2          1      2          2        1      0      1      1      2   \n",
      "69     2          3      2          1        1      1      2      1      0   \n",
      "70     3          2      2          0        0      2      2      2      2   \n",
      "71     2          2      1          1        0      2      1      1      2   \n",
      "72     2          4      1          0        0      2      1      0      0   \n",
      "73     2          2      1          0        0      1      0      1      2   \n",
      "74     2          2      2          2        0      2      2      1      2   \n",
      "75     2          2      1          0        0      2      2      2      3   \n",
      "76     2          3      1          0        0      0      2      0      2   \n",
      "77     4          2      3          3        0      1      3      0      1   \n",
      "78     1          2      1          0        0      2      0      1      1   \n",
      "79     1          3      2          0        0      0      2      0      2   \n",
      "80     2          2      2          1        0      0      2      0      0   \n",
      "81     1          1      1          0        0      1      0      0      1   \n",
      "82     2          3      2          0        0      2      2      1      1   \n",
      "83     0          3      1          0        0      2      2      1      1   \n",
      "84     2          2      1          0        0      1      0      1      2   \n",
      "85     2          3      0          0        1      0      2      1      1   \n",
      "\n",
      "    Malty  Fruity  Floral  \n",
      "0       2       2       2  \n",
      "1       3       3       2  \n",
      "2       2       3       2  \n",
      "3       2       1       0  \n",
      "4       3       1       1  \n",
      "5       1       1       2  \n",
      "6       2       3       3  \n",
      "7       2       2       1  \n",
      "8       2       2       2  \n",
      "9       1       2       1  \n",
      "10      0       1       2  \n",
      "11      2       2       2  \n",
      "12      2       2       2  \n",
      "13      2       3       2  \n",
      "14      3       2       2  \n",
      "15      2       2       2  \n",
      "16      2       2       3  \n",
      "17      2       2       2  \n",
      "18      1       1       2  \n",
      "19      2       2       2  \n",
      "20      2       2       3  \n",
      "21      1       1       1  \n",
      "22      2       2       2  \n",
      "23      1       2       0  \n",
      "24      2       1       4  \n",
      "25      2       2       2  \n",
      "26      2       2       1  \n",
      "27      2       3       1  \n",
      "28      2       2       2  \n",
      "29      3       2       1  \n",
      "..    ...     ...     ...  \n",
      "56      1       2       2  \n",
      "57      1       1       0  \n",
      "58      1       0       0  \n",
      "59      1       3       2  \n",
      "60      2       1       2  \n",
      "61      3       2       3  \n",
      "62      2       3       1  \n",
      "63      1       2       2  \n",
      "64      1       1       2  \n",
      "65      1       2       2  \n",
      "66      2       2       0  \n",
      "67      3       1       1  \n",
      "68      2       2       2  \n",
      "69      2       3       2  \n",
      "70      2       3       1  \n",
      "71      2       2       2  \n",
      "72      2       1       2  \n",
      "73      2       2       2  \n",
      "74      1       0       1  \n",
      "75      3       3       2  \n",
      "76      1       3       2  \n",
      "77      2       2       0  \n",
      "78      2       2       2  \n",
      "79      1       2       3  \n",
      "80      0       2       2  \n",
      "81      2       2       2  \n",
      "82      2       0       1  \n",
      "83      2       1       2  \n",
      "84      1       0       0  \n",
      "85      2       2       1  \n",
      "\n",
      "[86 rows x 12 columns]\n"
     ]
    }
   ],
   "source": [
    "df_col_sliced=df.loc[:,\n",
    "             ['Body',\n",
    "              'Sweetness',\n",
    "              'Smoky',\n",
    "              'Medicinal',\n",
    "              'Tobacco',\n",
    "              'Honey',\n",
    "              'Spicy',\n",
    "              'Winey',\n",
    "              'Nutty',\n",
    "              'Malty',\n",
    "              'Fruity',\n",
    "              'Floral',\n",
    "             ]]\n",
    "print(df_col_sliced)"
   ]
  },
  {
   "cell_type": "code",
   "execution_count": 4,
   "metadata": {
    "collapsed": false
   },
   "outputs": [
    {
     "name": "stdout",
     "output_type": "stream",
     "text": [
      "[[2 2 2 ..., 2 2 2]\n",
      " [3 3 1 ..., 3 3 2]\n",
      " [1 3 2 ..., 2 3 2]\n",
      " ..., \n",
      " [0 3 1 ..., 2 1 2]\n",
      " [2 2 1 ..., 1 0 0]\n",
      " [2 3 0 ..., 2 2 1]]\n"
     ]
    }
   ],
   "source": [
    "df_to_array=df_col_sliced.as_matrix()\n",
    "print(df_to_array)"
   ]
  },
  {
   "cell_type": "code",
   "execution_count": 5,
   "metadata": {
    "collapsed": false
   },
   "outputs": [
    {
     "name": "stdout",
     "output_type": "stream",
     "text": [
      "[[-0.07542547 -0.40765084  0.54172898 ...,  0.31606376  0.25509887\n",
      "   0.35566418]\n",
      " [ 1.00567291  0.99466805 -0.62298833 ...,  1.91497456  1.54559904\n",
      "   0.35566418]\n",
      " [-1.15652385  0.99466805  0.54172898 ...,  0.31606376  1.54559904\n",
      "   0.35566418]\n",
      " ..., \n",
      " [-2.23762223  0.99466805 -0.62298833 ...,  0.31606376 -1.0354013\n",
      "   0.35566418]\n",
      " [-0.07542547 -0.40765084 -0.62298833 ..., -1.28284703 -2.32590146\n",
      "  -1.99719114]\n",
      " [-0.07542547  0.99466805 -1.78770563 ...,  0.31606376  0.25509887\n",
      "  -0.82076348]]\n"
     ]
    },
    {
     "name": "stderr",
     "output_type": "stream",
     "text": [
      "/Users/wjs/anaconda/lib/python3.5/site-packages/sklearn/utils/validation.py:420: DataConversionWarning: Data with input dtype int64 was converted to float64 by the scale function.\n",
      "  warnings.warn(msg, DataConversionWarning)\n"
     ]
    }
   ],
   "source": [
    "x_scaled=preprocessing.scale(df_to_array)\n",
    "print(x_scaled)"
   ]
  },
  {
   "cell_type": "code",
   "execution_count": 6,
   "metadata": {
    "collapsed": false
   },
   "outputs": [
    {
     "name": "stdout",
     "output_type": "stream",
     "text": [
      "[[ 1.46900079 -1.20897592  2.20561084  2.63786667  1.86551036 -1.29843095\n",
      "   0.24061677 -0.43708231 -0.21960293 -0.59759955 -0.66668696 -1.49300786]\n",
      " [ 0.43509321 -0.01811782  0.12113662 -0.32947549 -0.18942991  0.69458549\n",
      "   0.39830712  0.71404043  0.38272363  0.40489214  0.07586274 -0.00379983]\n",
      " [-0.60340375  0.21197844 -0.46046963 -0.15358021 -0.14509525 -0.37014095\n",
      "  -0.37263659 -0.52664836 -0.28467047 -0.24169582  0.04501745  0.24622904]]\n"
     ]
    }
   ],
   "source": [
    "y_pred = KMeans(n_clusters=3).fit(x_scaled)\n",
    "print(y_pred.cluster_centers_)"
   ]
  },
  {
   "cell_type": "code",
   "execution_count": 7,
   "metadata": {
    "collapsed": false
   },
   "outputs": [
    {
     "name": "stdout",
     "output_type": "stream",
     "text": [
      "num_c= 2 prev=1032.00 current=848.20\n",
      "dimin=183.80301722674108\n",
      "num_c= 3 prev=848.20 current=736.61\n",
      "dimin=111.58243134411464\n",
      "num_c= 4 prev=736.61 current=673.14\n",
      "dimin=63.47268404813326\n",
      "num_c= 5 prev=673.14 current=633.67\n",
      "dimin=39.47582285454382\n",
      "num_c= 6 prev=633.67 current=585.18\n",
      "dimin=48.48437011293515\n",
      "num_c= 7 prev=585.18 current=555.32\n",
      "dimin=29.85857380311927\n",
      "num_c= 8 prev=555.32 current=542.92\n",
      "dimin=12.40662488722262\n",
      "num_c= 9 prev=542.92 current=520.26\n",
      "dimin=22.657034480501352\n",
      "num_c= 10 prev=520.26 current=488.23\n",
      "dimin=32.02829862633615\n",
      "num_c= 11 prev=488.23 current=475.36\n",
      "dimin=12.871907655491952\n",
      "num_c= 12 prev=475.36 current=442.95\n",
      "dimin=32.40678201112246\n",
      "num_c= 13 prev=442.95 current=438.03\n",
      "dimin=4.918015565168616\n",
      "num_c= 14 prev=438.03 current=410.81\n",
      "dimin=27.222712581359247\n",
      "num_c= 15 prev=410.81 current=394.38\n",
      "dimin=16.42821633427019\n",
      "num_c= 16 prev=394.38 current=393.53\n",
      "dimin=0.8570787696705793\n",
      "num_c= 17 prev=393.53 current=371.11\n",
      "dimin=22.41529163831899\n",
      "num_c= 18 prev=371.11 current=368.94\n",
      "dimin=2.1675454963336165\n",
      "num_c= 19 prev=368.94 current=343.64\n",
      "dimin=25.30533574077424\n"
     ]
    }
   ],
   "source": [
    "distortions=[]\n",
    "for x in range(1,20):\n",
    "    y_pred_inertia=KMeans(n_clusters=x,init='k-means++').fit(x_scaled)\n",
    "    distortions.append(y_pred_inertia.inertia_)\n",
    "    if x==1:\n",
    "        prev_inertia=y_pred_inertia.inertia_\n",
    "        #print(\"num_c= 1 current={:.2f}\".format(prev_inertia))\n",
    "    else:\n",
    "        print(\"num_c= {} prev={:.2f} current={:.2f}\".format(x,prev_inertia,y_pred_inertia.inertia_))\n",
    "        diminishing_return=prev_inertia-y_pred_inertia.inertia_\n",
    "        print(\"dimin={}\".format(diminishing_return))\n",
    "        prev_inertia=y_pred_inertia.inertia_"
   ]
  },
  {
   "cell_type": "code",
   "execution_count": null,
   "metadata": {
    "collapsed": true
   },
   "outputs": [],
   "source": [
    "plt.plot(range(1,20),distortions,marker='o') \n",
    "plt.xlabel('Number of clusters')\n",
    "plt.ylabel('Distortion')\n",
    "plt.show()"
   ]
  },
  {
   "cell_type": "code",
   "execution_count": 8,
   "metadata": {
    "collapsed": true
   },
   "outputs": [],
   "source": [
    "import pandas as pd\n",
    "import numpy as np\n",
    "from sklearn.cluster import KMeans, MiniBatchKMeans\n",
    "from numpy.random import random_sample\n",
    "from math import sqrt, log\n",
    "\n",
    "from sklearn.datasets import load_iris\n",
    "\n",
    "# famous iris data set\n",
    "iris = load_iris()\n",
    "iris_data = pd.DataFrame(iris['data'], columns=iris['feature_names'])\n",
    "iris_target = iris['target']"
   ]
  },
  {
   "cell_type": "code",
   "execution_count": 12,
   "metadata": {
    "collapsed": false
   },
   "outputs": [
    {
     "name": "stdout",
     "output_type": "stream",
     "text": [
      "     sepal length (cm)  sepal width (cm)  petal length (cm)  petal width (cm)\n",
      "0                  5.1               3.5                1.4               0.2\n",
      "1                  4.9               3.0                1.4               0.2\n",
      "2                  4.7               3.2                1.3               0.2\n",
      "3                  4.6               3.1                1.5               0.2\n",
      "4                  5.0               3.6                1.4               0.2\n",
      "5                  5.4               3.9                1.7               0.4\n",
      "6                  4.6               3.4                1.4               0.3\n",
      "7                  5.0               3.4                1.5               0.2\n",
      "8                  4.4               2.9                1.4               0.2\n",
      "9                  4.9               3.1                1.5               0.1\n",
      "10                 5.4               3.7                1.5               0.2\n",
      "11                 4.8               3.4                1.6               0.2\n",
      "12                 4.8               3.0                1.4               0.1\n",
      "13                 4.3               3.0                1.1               0.1\n",
      "14                 5.8               4.0                1.2               0.2\n",
      "15                 5.7               4.4                1.5               0.4\n",
      "16                 5.4               3.9                1.3               0.4\n",
      "17                 5.1               3.5                1.4               0.3\n",
      "18                 5.7               3.8                1.7               0.3\n",
      "19                 5.1               3.8                1.5               0.3\n",
      "20                 5.4               3.4                1.7               0.2\n",
      "21                 5.1               3.7                1.5               0.4\n",
      "22                 4.6               3.6                1.0               0.2\n",
      "23                 5.1               3.3                1.7               0.5\n",
      "24                 4.8               3.4                1.9               0.2\n",
      "25                 5.0               3.0                1.6               0.2\n",
      "26                 5.0               3.4                1.6               0.4\n",
      "27                 5.2               3.5                1.5               0.2\n",
      "28                 5.2               3.4                1.4               0.2\n",
      "29                 4.7               3.2                1.6               0.2\n",
      "..                 ...               ...                ...               ...\n",
      "120                6.9               3.2                5.7               2.3\n",
      "121                5.6               2.8                4.9               2.0\n",
      "122                7.7               2.8                6.7               2.0\n",
      "123                6.3               2.7                4.9               1.8\n",
      "124                6.7               3.3                5.7               2.1\n",
      "125                7.2               3.2                6.0               1.8\n",
      "126                6.2               2.8                4.8               1.8\n",
      "127                6.1               3.0                4.9               1.8\n",
      "128                6.4               2.8                5.6               2.1\n",
      "129                7.2               3.0                5.8               1.6\n",
      "130                7.4               2.8                6.1               1.9\n",
      "131                7.9               3.8                6.4               2.0\n",
      "132                6.4               2.8                5.6               2.2\n",
      "133                6.3               2.8                5.1               1.5\n",
      "134                6.1               2.6                5.6               1.4\n",
      "135                7.7               3.0                6.1               2.3\n",
      "136                6.3               3.4                5.6               2.4\n",
      "137                6.4               3.1                5.5               1.8\n",
      "138                6.0               3.0                4.8               1.8\n",
      "139                6.9               3.1                5.4               2.1\n",
      "140                6.7               3.1                5.6               2.4\n",
      "141                6.9               3.1                5.1               2.3\n",
      "142                5.8               2.7                5.1               1.9\n",
      "143                6.8               3.2                5.9               2.3\n",
      "144                6.7               3.3                5.7               2.5\n",
      "145                6.7               3.0                5.2               2.3\n",
      "146                6.3               2.5                5.0               1.9\n",
      "147                6.5               3.0                5.2               2.0\n",
      "148                6.2               3.4                5.4               2.3\n",
      "149                5.9               3.0                5.1               1.8\n",
      "\n",
      "[150 rows x 4 columns]\n"
     ]
    }
   ],
   "source": [
    "print(iris_data)"
   ]
  },
  {
   "cell_type": "code",
   "execution_count": 13,
   "metadata": {
    "collapsed": true
   },
   "outputs": [],
   "source": [
    "def get_rand_data(col):\n",
    "    rng = col.max() - col.min()\n",
    "    return pd.Series(random_sample(len(col))*rng + col.min())\n"
   ]
  },
  {
   "cell_type": "code",
   "execution_count": 27,
   "metadata": {
    "collapsed": false
   },
   "outputs": [
    {
     "ename": "ValueError",
     "evalue": "operands could not be broadcast together with shapes (4,) (150,) ",
     "output_type": "error",
     "traceback": [
      "\u001b[0;31m---------------------------------------------------------------------------\u001b[0m",
      "\u001b[0;31mValueError\u001b[0m                                Traceback (most recent call last)",
      "\u001b[0;32m<ipython-input-27-3bfe7adb2695>\u001b[0m in \u001b[0;36m<module>\u001b[0;34m()\u001b[0m\n\u001b[0;32m----> 1\u001b[0;31m \u001b[0mref\u001b[0m\u001b[0;34m=\u001b[0m\u001b[0mget_rand_data\u001b[0m\u001b[0;34m(\u001b[0m\u001b[0miris_data\u001b[0m\u001b[0;34m)\u001b[0m\u001b[0;34m\u001b[0m\u001b[0m\n\u001b[0m",
      "\u001b[0;32m<ipython-input-13-3ae3df462370>\u001b[0m in \u001b[0;36mget_rand_data\u001b[0;34m(col)\u001b[0m\n\u001b[1;32m      1\u001b[0m \u001b[0;32mdef\u001b[0m \u001b[0mget_rand_data\u001b[0m\u001b[0;34m(\u001b[0m\u001b[0mcol\u001b[0m\u001b[0;34m)\u001b[0m\u001b[0;34m:\u001b[0m\u001b[0;34m\u001b[0m\u001b[0m\n\u001b[1;32m      2\u001b[0m     \u001b[0mrng\u001b[0m \u001b[0;34m=\u001b[0m \u001b[0mcol\u001b[0m\u001b[0;34m.\u001b[0m\u001b[0mmax\u001b[0m\u001b[0;34m(\u001b[0m\u001b[0;34m)\u001b[0m \u001b[0;34m-\u001b[0m \u001b[0mcol\u001b[0m\u001b[0;34m.\u001b[0m\u001b[0mmin\u001b[0m\u001b[0;34m(\u001b[0m\u001b[0;34m)\u001b[0m\u001b[0;34m\u001b[0m\u001b[0m\n\u001b[0;32m----> 3\u001b[0;31m     \u001b[0;32mreturn\u001b[0m \u001b[0mpd\u001b[0m\u001b[0;34m.\u001b[0m\u001b[0mSeries\u001b[0m\u001b[0;34m(\u001b[0m\u001b[0mrandom_sample\u001b[0m\u001b[0;34m(\u001b[0m\u001b[0mlen\u001b[0m\u001b[0;34m(\u001b[0m\u001b[0mcol\u001b[0m\u001b[0;34m)\u001b[0m\u001b[0;34m)\u001b[0m\u001b[0;34m*\u001b[0m\u001b[0mrng\u001b[0m \u001b[0;34m+\u001b[0m \u001b[0mcol\u001b[0m\u001b[0;34m.\u001b[0m\u001b[0mmin\u001b[0m\u001b[0;34m(\u001b[0m\u001b[0;34m)\u001b[0m\u001b[0;34m)\u001b[0m\u001b[0;34m\u001b[0m\u001b[0m\n\u001b[0m",
      "\u001b[0;32m/Users/wjs/anaconda/lib/python3.5/site-packages/pandas/core/ops.py\u001b[0m in \u001b[0;36mwrapper\u001b[0;34m(left, right, name, na_op)\u001b[0m\n\u001b[1;32m    649\u001b[0m                 \u001b[0mlvalues\u001b[0m \u001b[0;34m=\u001b[0m \u001b[0mlvalues\u001b[0m\u001b[0;34m.\u001b[0m\u001b[0mvalues\u001b[0m\u001b[0;34m\u001b[0m\u001b[0m\n\u001b[1;32m    650\u001b[0m \u001b[0;34m\u001b[0m\u001b[0m\n\u001b[0;32m--> 651\u001b[0;31m             return left._constructor(wrap_results(na_op(lvalues, rvalues)),\n\u001b[0m\u001b[1;32m    652\u001b[0m                                      \u001b[0mindex\u001b[0m\u001b[0;34m=\u001b[0m\u001b[0mleft\u001b[0m\u001b[0;34m.\u001b[0m\u001b[0mindex\u001b[0m\u001b[0;34m,\u001b[0m \u001b[0mname\u001b[0m\u001b[0;34m=\u001b[0m\u001b[0mleft\u001b[0m\u001b[0;34m.\u001b[0m\u001b[0mname\u001b[0m\u001b[0;34m,\u001b[0m\u001b[0;34m\u001b[0m\u001b[0m\n\u001b[1;32m    653\u001b[0m                                      dtype=dtype)\n",
      "\u001b[0;32m/Users/wjs/anaconda/lib/python3.5/site-packages/pandas/core/ops.py\u001b[0m in \u001b[0;36mna_op\u001b[0;34m(x, y)\u001b[0m\n\u001b[1;32m    580\u001b[0m         \u001b[0;32mtry\u001b[0m\u001b[0;34m:\u001b[0m\u001b[0;34m\u001b[0m\u001b[0m\n\u001b[1;32m    581\u001b[0m             result = expressions.evaluate(op, str_rep, x, y,\n\u001b[0;32m--> 582\u001b[0;31m                                           raise_on_error=True, **eval_kwargs)\n\u001b[0m\u001b[1;32m    583\u001b[0m         \u001b[0;32mexcept\u001b[0m \u001b[0mTypeError\u001b[0m\u001b[0;34m:\u001b[0m\u001b[0;34m\u001b[0m\u001b[0m\n\u001b[1;32m    584\u001b[0m             \u001b[0;32mif\u001b[0m \u001b[0misinstance\u001b[0m\u001b[0;34m(\u001b[0m\u001b[0my\u001b[0m\u001b[0;34m,\u001b[0m \u001b[0;34m(\u001b[0m\u001b[0mnp\u001b[0m\u001b[0;34m.\u001b[0m\u001b[0mndarray\u001b[0m\u001b[0;34m,\u001b[0m \u001b[0mABCSeries\u001b[0m\u001b[0;34m,\u001b[0m \u001b[0mpd\u001b[0m\u001b[0;34m.\u001b[0m\u001b[0mIndex\u001b[0m\u001b[0;34m)\u001b[0m\u001b[0;34m)\u001b[0m\u001b[0;34m:\u001b[0m\u001b[0;34m\u001b[0m\u001b[0m\n",
      "\u001b[0;32m/Users/wjs/anaconda/lib/python3.5/site-packages/pandas/computation/expressions.py\u001b[0m in \u001b[0;36mevaluate\u001b[0;34m(op, op_str, a, b, raise_on_error, use_numexpr, **eval_kwargs)\u001b[0m\n\u001b[1;32m    207\u001b[0m     \u001b[0;32mif\u001b[0m \u001b[0muse_numexpr\u001b[0m\u001b[0;34m:\u001b[0m\u001b[0;34m\u001b[0m\u001b[0m\n\u001b[1;32m    208\u001b[0m         return _evaluate(op, op_str, a, b, raise_on_error=raise_on_error,\n\u001b[0;32m--> 209\u001b[0;31m                          **eval_kwargs)\n\u001b[0m\u001b[1;32m    210\u001b[0m     \u001b[0;32mreturn\u001b[0m \u001b[0m_evaluate_standard\u001b[0m\u001b[0;34m(\u001b[0m\u001b[0mop\u001b[0m\u001b[0;34m,\u001b[0m \u001b[0mop_str\u001b[0m\u001b[0;34m,\u001b[0m \u001b[0ma\u001b[0m\u001b[0;34m,\u001b[0m \u001b[0mb\u001b[0m\u001b[0;34m,\u001b[0m \u001b[0mraise_on_error\u001b[0m\u001b[0;34m=\u001b[0m\u001b[0mraise_on_error\u001b[0m\u001b[0;34m)\u001b[0m\u001b[0;34m\u001b[0m\u001b[0m\n\u001b[1;32m    211\u001b[0m \u001b[0;34m\u001b[0m\u001b[0m\n",
      "\u001b[0;32m/Users/wjs/anaconda/lib/python3.5/site-packages/pandas/computation/expressions.py\u001b[0m in \u001b[0;36m_evaluate_numexpr\u001b[0;34m(op, op_str, a, b, raise_on_error, truediv, reversed, **eval_kwargs)\u001b[0m\n\u001b[1;32m    118\u001b[0m \u001b[0;34m\u001b[0m\u001b[0m\n\u001b[1;32m    119\u001b[0m     \u001b[0;32mif\u001b[0m \u001b[0mresult\u001b[0m \u001b[0;32mis\u001b[0m \u001b[0;32mNone\u001b[0m\u001b[0;34m:\u001b[0m\u001b[0;34m\u001b[0m\u001b[0m\n\u001b[0;32m--> 120\u001b[0;31m         \u001b[0mresult\u001b[0m \u001b[0;34m=\u001b[0m \u001b[0m_evaluate_standard\u001b[0m\u001b[0;34m(\u001b[0m\u001b[0mop\u001b[0m\u001b[0;34m,\u001b[0m \u001b[0mop_str\u001b[0m\u001b[0;34m,\u001b[0m \u001b[0ma\u001b[0m\u001b[0;34m,\u001b[0m \u001b[0mb\u001b[0m\u001b[0;34m,\u001b[0m \u001b[0mraise_on_error\u001b[0m\u001b[0;34m)\u001b[0m\u001b[0;34m\u001b[0m\u001b[0m\n\u001b[0m\u001b[1;32m    121\u001b[0m \u001b[0;34m\u001b[0m\u001b[0m\n\u001b[1;32m    122\u001b[0m     \u001b[0;32mreturn\u001b[0m \u001b[0mresult\u001b[0m\u001b[0;34m\u001b[0m\u001b[0m\n",
      "\u001b[0;32m/Users/wjs/anaconda/lib/python3.5/site-packages/pandas/computation/expressions.py\u001b[0m in \u001b[0;36m_evaluate_standard\u001b[0;34m(op, op_str, a, b, raise_on_error, **eval_kwargs)\u001b[0m\n\u001b[1;32m     60\u001b[0m     \u001b[0;32mif\u001b[0m \u001b[0m_TEST_MODE\u001b[0m\u001b[0;34m:\u001b[0m\u001b[0;34m\u001b[0m\u001b[0m\n\u001b[1;32m     61\u001b[0m         \u001b[0m_store_test_result\u001b[0m\u001b[0;34m(\u001b[0m\u001b[0;32mFalse\u001b[0m\u001b[0;34m)\u001b[0m\u001b[0;34m\u001b[0m\u001b[0m\n\u001b[0;32m---> 62\u001b[0;31m     \u001b[0;32mreturn\u001b[0m \u001b[0mop\u001b[0m\u001b[0;34m(\u001b[0m\u001b[0ma\u001b[0m\u001b[0;34m,\u001b[0m \u001b[0mb\u001b[0m\u001b[0;34m)\u001b[0m\u001b[0;34m\u001b[0m\u001b[0m\n\u001b[0m\u001b[1;32m     63\u001b[0m \u001b[0;34m\u001b[0m\u001b[0m\n\u001b[1;32m     64\u001b[0m \u001b[0;34m\u001b[0m\u001b[0m\n",
      "\u001b[0;31mValueError\u001b[0m: operands could not be broadcast together with shapes (4,) (150,) "
     ]
    }
   ],
   "source": [
    "ref=get_rand_data(iris_data)"
   ]
  },
  {
   "cell_type": "code",
   "execution_count": 15,
   "metadata": {
    "collapsed": false
   },
   "outputs": [
    {
     "name": "stdout",
     "output_type": "stream",
     "text": [
      "     sepal length (cm)  sepal width (cm)  petal length (cm)  petal width (cm)\n",
      "0             7.105345          2.746960           4.304048          1.144057\n",
      "1             6.793938          3.886503           5.911577          1.722092\n",
      "2             7.583165          2.738122           1.105403          0.756726\n",
      "3             6.039297          2.792666           3.345708          0.709844\n",
      "4             7.211497          3.813749           3.097155          1.799075\n",
      "5             5.136044          4.213264           6.136564          0.733970\n",
      "6             5.921667          2.188325           3.250919          0.756957\n",
      "7             5.673111          4.007073           6.252518          2.002909\n",
      "8             5.532621          3.202849           5.944684          2.227087\n",
      "9             6.136528          2.197926           5.762372          1.277872\n",
      "10            5.963337          2.609697           4.174087          1.630203\n",
      "11            7.825752          2.727166           1.362037          1.208992\n",
      "12            6.687068          2.133062           1.355837          0.394057\n",
      "13            5.775417          2.220576           4.210735          1.468182\n",
      "14            5.298541          4.000723           3.721466          0.924050\n",
      "15            4.406367          3.554323           1.956886          2.003127\n",
      "16            7.147901          2.514028           4.445419          0.761658\n",
      "17            6.695778          3.759199           1.363731          1.104667\n",
      "18            5.448677          2.100238           4.609091          1.549083\n",
      "19            4.513834          3.506871           2.852540          1.621325\n",
      "20            4.436034          3.983323           2.390230          1.670520\n",
      "21            7.066756          4.135838           5.379829          0.220775\n",
      "22            6.468006          2.734164           1.432022          1.442669\n",
      "23            7.880881          2.192481           1.662269          1.316276\n",
      "24            4.400978          2.876205           1.600863          1.744345\n",
      "25            5.114779          3.456857           2.100749          1.896540\n",
      "26            7.257986          4.398860           1.933801          1.629664\n",
      "27            6.719599          2.970706           4.848325          0.911819\n",
      "28            5.722191          3.049171           4.337413          1.712688\n",
      "29            5.106705          3.980753           5.115326          1.637801\n",
      "..                 ...               ...                ...               ...\n",
      "120           7.608535          3.900217           5.314622          1.845168\n",
      "121           6.615399          2.231180           5.896973          1.737624\n",
      "122           5.518014          2.086734           3.994825          0.738271\n",
      "123           7.513672          3.833494           3.156810          2.342917\n",
      "124           4.385908          3.567011           6.503847          0.491261\n",
      "125           5.220696          3.529264           5.669613          2.365156\n",
      "126           5.818212          3.095922           5.009905          1.354865\n",
      "127           5.608449          3.730335           6.730202          1.257034\n",
      "128           5.172790          2.210240           4.325473          1.252275\n",
      "129           4.807065          2.115315           5.876761          1.082237\n",
      "130           6.700750          2.255873           2.630988          2.476107\n",
      "131           5.185738          3.033308           1.889915          0.728994\n",
      "132           5.835762          3.913116           2.907243          1.699634\n",
      "133           5.039460          2.840743           2.712427          1.943630\n",
      "134           4.889532          2.610364           4.232123          0.539307\n",
      "135           4.395070          3.058251           3.839138          0.628309\n",
      "136           5.801686          3.809943           4.138826          0.572723\n",
      "137           5.592603          2.639580           1.571468          1.265086\n",
      "138           7.608295          2.085323           2.337478          2.446558\n",
      "139           5.111808          3.893387           5.197032          0.917195\n",
      "140           6.308961          3.428666           5.587454          2.395550\n",
      "141           6.107734          4.347282           3.245712          1.122195\n",
      "142           5.700711          2.981245           3.018735          2.353182\n",
      "143           6.826178          2.631190           3.740669          1.287657\n",
      "144           4.566208          2.054682           5.899041          0.218592\n",
      "145           6.524808          2.921592           3.015286          0.870806\n",
      "146           6.398093          2.283170           5.505390          1.519804\n",
      "147           6.428848          2.169291           3.712510          1.114341\n",
      "148           4.544589          3.892057           6.836319          2.447743\n",
      "149           7.185067          2.322550           2.240108          2.195464\n",
      "\n",
      "[150 rows x 4 columns]\n"
     ]
    }
   ],
   "source": [
    "print(ref)"
   ]
  },
  {
   "cell_type": "code",
   "execution_count": 16,
   "metadata": {
    "collapsed": true
   },
   "outputs": [],
   "source": [
    "ref_1=df_col_sliced.apply(get_rand_data)"
   ]
  },
  {
   "cell_type": "code",
   "execution_count": 26,
   "metadata": {
    "collapsed": false
   },
   "outputs": [
    {
     "name": "stdout",
     "output_type": "stream",
     "text": [
      "86\n"
     ]
    }
   ],
   "source": [
    "print(len(ref_1))"
   ]
  },
  {
   "cell_type": "code",
   "execution_count": 25,
   "metadata": {
    "collapsed": false
   },
   "outputs": [
    {
     "name": "stdout",
     "output_type": "stream",
     "text": [
      "[[-0.81518206 -0.75646452 -1.50661737 ...,  1.16578256  1.22606206\n",
      "   0.57355643]\n",
      " [ 1.35667581  0.41893839 -0.8647689  ...,  1.16311168 -1.21051764\n",
      "   0.81575761]\n",
      " [ 0.65100912  1.04497924  1.41500518 ...,  0.53990469  1.43172597\n",
      "  -1.52835159]\n",
      " ..., \n",
      " [ 0.73419137 -1.04677406 -0.71358302 ..., -0.38603835 -0.90320581\n",
      "   1.73926895]\n",
      " [ 1.20918901 -1.15689814  0.4823619  ...,  0.24757752  0.84673444\n",
      "   1.60962648]\n",
      " [ 0.00304255  0.67158746 -0.36726049 ...,  1.52840104  1.52809889\n",
      "  -0.01923261]]\n"
     ]
    }
   ],
   "source": [
    "scaler=preprocessing.scale(ref_1)\n",
    "print(scaler)"
   ]
  },
  {
   "cell_type": "code",
   "execution_count": 21,
   "metadata": {
    "collapsed": false
   },
   "outputs": [
    {
     "name": "stdout",
     "output_type": "stream",
     "text": [
      "[[ 1.49576087  2.67190435  1.70537075  1.54521595  0.50575308  1.20639199\n",
      "   1.45728915  1.24443578  1.85427307  1.31613935  1.81595305  1.52492316]\n",
      " [ 1.75096873  2.26357661  2.06739333  1.91160405  0.46199949  2.39361436\n",
      "   1.40384501  3.32890924  2.25456663  1.50576289  1.36274464  1.77344474]\n",
      " [ 2.34158588  2.51307183  1.99204236  3.22748562  0.50771541  2.44337692\n",
      "   1.42723238  1.20625486  1.74688801  1.51086821  1.51419116  2.89644953]]\n"
     ]
    }
   ],
   "source": [
    "print(test.cluster_centers_)"
   ]
  },
  {
   "cell_type": "code",
   "execution_count": 31,
   "metadata": {
    "collapsed": false
   },
   "outputs": [],
   "source": [
    "import pandas as pd\n",
    "import numpy as np\n",
    "from sklearn.cluster import KMeans, MiniBatchKMeans\n",
    "from numpy.random import random_sample\n",
    "from math import sqrt, log\n",
    "\n",
    "from sklearn.datasets import load_iris\n",
    "\n",
    "# famous iris data set\n",
    "iris = load_iris()\n",
    "iris_data = pd.DataFrame(iris['data'], columns=iris['feature_names'])\n",
    "iris_target = iris['target']\n",
    "\n",
    "\n",
    "# returns series of random values sampled between min and max values of passed col\n",
    "def get_rand_data(col):\n",
    "\trng = col.max() - col.min()\n",
    "\treturn pd.Series(random_sample(len(col))*rng + col.min())\n",
    "\n",
    "def iter_kmeans(df, n_clusters, num_iters=5):\n",
    "\trng =  range(1, num_iters + 1)\n",
    "\tvals = pd.Series(index=rng)\n",
    "\tfor i in rng:\n",
    "\t\tk = KMeans(n_clusters=n_clusters, n_init=3)\n",
    "\t\tk.fit(df)\n",
    "\t\tprint (\"Ref k: %s\" % k.get_params()['n_clusters'])\n",
    "\t\tvals[i] = k.inertia_\n",
    "\treturn vals\n",
    "\n",
    "def gap_statistic(df, max_k=10):\n",
    "\tgaps = pd.Series(index = range(1, max_k + 1))\n",
    "\tfor k in range(1, max_k + 1):\n",
    "\t\tkm_act = KMeans(n_clusters=k, n_init=3)\n",
    "\t\tkm_act.fit(df)\n",
    "\n",
    "\t\t# get ref dataset\n",
    "\t\tref = df.apply(get_rand_data)\n",
    "\t\tref_inertia = iter_kmeans(ref, n_clusters=k).mean()\n",
    "\n",
    "\t\tgap = log(ref_inertia - km_act.inertia_)\n",
    "\n",
    "\t\tprint (\"Ref: {}   Act: {}  Gap: {}\".format( ref_inertia, km_act.inertia_, gap))\n",
    "\t\tgaps[k] = gap\n",
    "\n",
    "\treturn gaps\n"
   ]
  },
  {
   "cell_type": "code",
   "execution_count": 35,
   "metadata": {
    "collapsed": false
   },
   "outputs": [
    {
     "name": "stdout",
     "output_type": "stream",
     "text": [
      "Ref k: 1\n",
      "Ref k: 1\n",
      "Ref k: 1\n",
      "Ref k: 1\n",
      "Ref k: 1\n",
      "Ref: 1086.9518095930994   Act: 665.8372093023256  Gap: 6.042905006356841\n",
      "Ref k: 2\n",
      "Ref k: 2\n",
      "Ref k: 2\n",
      "Ref k: 2\n",
      "Ref k: 2\n",
      "Ref: 945.4307732132318   Act: 533.4213381555155  Gap: 6.021046249712836\n",
      "Ref k: 3\n",
      "Ref k: 3\n",
      "Ref k: 3\n",
      "Ref k: 3\n",
      "Ref k: 3\n",
      "Ref: 826.8337921706973   Act: 449.73501969728386  Gap: 5.932507149083764\n",
      "Ref k: 4\n",
      "Ref k: 4\n",
      "Ref k: 4\n",
      "Ref k: 4\n",
      "Ref k: 4\n",
      "Ref: 770.8375206779396   Act: 405.0233918128655  Gap: 5.902125359773661\n",
      "Ref k: 5\n",
      "Ref k: 5\n",
      "Ref k: 5\n",
      "Ref k: 5\n",
      "Ref k: 5\n",
      "Ref: 745.2293797246473   Act: 386.6430934656741  Gap: 5.882169317994075\n",
      "Ref k: 6\n",
      "Ref k: 6\n",
      "Ref k: 6\n",
      "Ref k: 6\n",
      "Ref k: 6\n",
      "Ref: 698.4572189447351   Act: 360.715873015873  Gap: 5.8222803537995675\n",
      "Ref k: 7\n",
      "Ref k: 7\n",
      "Ref k: 7\n",
      "Ref k: 7\n",
      "Ref k: 7\n",
      "Ref: 671.4240522216945   Act: 351.33731170789986  Gap: 5.768592023168144\n",
      "Ref k: 8\n",
      "Ref k: 8\n",
      "Ref k: 8\n",
      "Ref k: 8\n",
      "Ref k: 8\n",
      "Ref: 656.6744300326961   Act: 332.54285714285714  Gap: 5.78114952252661\n",
      "Ref k: 9\n",
      "Ref k: 9\n",
      "Ref k: 9\n",
      "Ref k: 9\n",
      "Ref k: 9\n",
      "Ref: 612.7396557332606   Act: 318.17844611528824  Gap: 5.685486824001229\n",
      "Ref k: 10\n",
      "Ref k: 10\n",
      "Ref k: 10\n",
      "Ref k: 10\n",
      "Ref k: 10\n",
      "Ref: 563.0551768280118   Act: 305.7265151515151  Gap: 5.550354107085001\n"
     ]
    }
   ],
   "source": [
    "test=gap_statistic(df_col_sliced)"
   ]
  },
  {
   "cell_type": "code",
   "execution_count": 39,
   "metadata": {
    "collapsed": false
   },
   "outputs": [
    {
     "name": "stdout",
     "output_type": "stream",
     "text": [
      "1     6.042905\n",
      "2     6.021046\n",
      "3     5.932507\n",
      "4     5.902125\n",
      "5     5.882169\n",
      "6     5.822280\n",
      "7     5.768592\n",
      "8     5.781150\n",
      "9     5.685487\n",
      "10    5.550354\n",
      "dtype: float64\n"
     ]
    }
   ],
   "source": [
    "print(test)"
   ]
  },
  {
   "cell_type": "code",
   "execution_count": 37,
   "metadata": {
    "collapsed": false
   },
   "outputs": [
    {
     "ename": "KeyError",
     "evalue": "0",
     "output_type": "error",
     "traceback": [
      "\u001b[0;31m---------------------------------------------------------------------------\u001b[0m",
      "\u001b[0;31mKeyError\u001b[0m                                  Traceback (most recent call last)",
      "\u001b[0;32m<ipython-input-37-591bdf90f66f>\u001b[0m in \u001b[0;36m<module>\u001b[0;34m()\u001b[0m\n\u001b[0;32m----> 1\u001b[0;31m \u001b[0mplt\u001b[0m\u001b[0;34m.\u001b[0m\u001b[0mplot\u001b[0m\u001b[0;34m(\u001b[0m\u001b[0mrange\u001b[0m\u001b[0;34m(\u001b[0m\u001b[0;36m1\u001b[0m\u001b[0;34m,\u001b[0m\u001b[0;36m10\u001b[0m\u001b[0;34m)\u001b[0m\u001b[0;34m,\u001b[0m\u001b[0mtest\u001b[0m\u001b[0;34m[\u001b[0m\u001b[0;36m0\u001b[0m\u001b[0;34m]\u001b[0m\u001b[0;34m,\u001b[0m\u001b[0mmarker\u001b[0m\u001b[0;34m=\u001b[0m\u001b[0;34m'o'\u001b[0m\u001b[0;34m)\u001b[0m\u001b[0;34m\u001b[0m\u001b[0m\n\u001b[0m\u001b[1;32m      2\u001b[0m \u001b[0mplt\u001b[0m\u001b[0;34m.\u001b[0m\u001b[0mxlabel\u001b[0m\u001b[0;34m(\u001b[0m\u001b[0;34m'Number of clusters'\u001b[0m\u001b[0;34m)\u001b[0m\u001b[0;34m\u001b[0m\u001b[0m\n\u001b[1;32m      3\u001b[0m \u001b[0mplt\u001b[0m\u001b[0;34m.\u001b[0m\u001b[0mylabel\u001b[0m\u001b[0;34m(\u001b[0m\u001b[0;34m'Distortion'\u001b[0m\u001b[0;34m)\u001b[0m\u001b[0;34m\u001b[0m\u001b[0m\n\u001b[1;32m      4\u001b[0m \u001b[0mplt\u001b[0m\u001b[0;34m.\u001b[0m\u001b[0mshow\u001b[0m\u001b[0;34m(\u001b[0m\u001b[0;34m)\u001b[0m\u001b[0;34m\u001b[0m\u001b[0m\n",
      "\u001b[0;32m/Users/wjs/anaconda/lib/python3.5/site-packages/pandas/core/series.py\u001b[0m in \u001b[0;36m__getitem__\u001b[0;34m(self, key)\u001b[0m\n\u001b[1;32m    581\u001b[0m         \u001b[0mkey\u001b[0m \u001b[0;34m=\u001b[0m \u001b[0mcom\u001b[0m\u001b[0;34m.\u001b[0m\u001b[0m_apply_if_callable\u001b[0m\u001b[0;34m(\u001b[0m\u001b[0mkey\u001b[0m\u001b[0;34m,\u001b[0m \u001b[0mself\u001b[0m\u001b[0;34m)\u001b[0m\u001b[0;34m\u001b[0m\u001b[0m\n\u001b[1;32m    582\u001b[0m         \u001b[0;32mtry\u001b[0m\u001b[0;34m:\u001b[0m\u001b[0;34m\u001b[0m\u001b[0m\n\u001b[0;32m--> 583\u001b[0;31m             \u001b[0mresult\u001b[0m \u001b[0;34m=\u001b[0m \u001b[0mself\u001b[0m\u001b[0;34m.\u001b[0m\u001b[0mindex\u001b[0m\u001b[0;34m.\u001b[0m\u001b[0mget_value\u001b[0m\u001b[0;34m(\u001b[0m\u001b[0mself\u001b[0m\u001b[0;34m,\u001b[0m \u001b[0mkey\u001b[0m\u001b[0;34m)\u001b[0m\u001b[0;34m\u001b[0m\u001b[0m\n\u001b[0m\u001b[1;32m    584\u001b[0m \u001b[0;34m\u001b[0m\u001b[0m\n\u001b[1;32m    585\u001b[0m             \u001b[0;32mif\u001b[0m \u001b[0;32mnot\u001b[0m \u001b[0mlib\u001b[0m\u001b[0;34m.\u001b[0m\u001b[0misscalar\u001b[0m\u001b[0;34m(\u001b[0m\u001b[0mresult\u001b[0m\u001b[0;34m)\u001b[0m\u001b[0;34m:\u001b[0m\u001b[0;34m\u001b[0m\u001b[0m\n",
      "\u001b[0;32m/Users/wjs/anaconda/lib/python3.5/site-packages/pandas/indexes/base.py\u001b[0m in \u001b[0;36mget_value\u001b[0;34m(self, series, key)\u001b[0m\n\u001b[1;32m   1978\u001b[0m         \u001b[0;32mtry\u001b[0m\u001b[0;34m:\u001b[0m\u001b[0;34m\u001b[0m\u001b[0m\n\u001b[1;32m   1979\u001b[0m             return self._engine.get_value(s, k,\n\u001b[0;32m-> 1980\u001b[0;31m                                           tz=getattr(series.dtype, 'tz', None))\n\u001b[0m\u001b[1;32m   1981\u001b[0m         \u001b[0;32mexcept\u001b[0m \u001b[0mKeyError\u001b[0m \u001b[0;32mas\u001b[0m \u001b[0me1\u001b[0m\u001b[0;34m:\u001b[0m\u001b[0;34m\u001b[0m\u001b[0m\n\u001b[1;32m   1982\u001b[0m             \u001b[0;32mif\u001b[0m \u001b[0mlen\u001b[0m\u001b[0;34m(\u001b[0m\u001b[0mself\u001b[0m\u001b[0;34m)\u001b[0m \u001b[0;34m>\u001b[0m \u001b[0;36m0\u001b[0m \u001b[0;32mand\u001b[0m \u001b[0mself\u001b[0m\u001b[0;34m.\u001b[0m\u001b[0minferred_type\u001b[0m \u001b[0;32min\u001b[0m \u001b[0;34m[\u001b[0m\u001b[0;34m'integer'\u001b[0m\u001b[0;34m,\u001b[0m \u001b[0;34m'boolean'\u001b[0m\u001b[0;34m]\u001b[0m\u001b[0;34m:\u001b[0m\u001b[0;34m\u001b[0m\u001b[0m\n",
      "\u001b[0;32mpandas/index.pyx\u001b[0m in \u001b[0;36mpandas.index.IndexEngine.get_value (pandas/index.c:3332)\u001b[0;34m()\u001b[0m\n",
      "\u001b[0;32mpandas/index.pyx\u001b[0m in \u001b[0;36mpandas.index.IndexEngine.get_value (pandas/index.c:3035)\u001b[0;34m()\u001b[0m\n",
      "\u001b[0;32mpandas/index.pyx\u001b[0m in \u001b[0;36mpandas.index.IndexEngine.get_loc (pandas/index.c:4018)\u001b[0;34m()\u001b[0m\n",
      "\u001b[0;32mpandas/hashtable.pyx\u001b[0m in \u001b[0;36mpandas.hashtable.Int64HashTable.get_item (pandas/hashtable.c:6610)\u001b[0;34m()\u001b[0m\n",
      "\u001b[0;32mpandas/hashtable.pyx\u001b[0m in \u001b[0;36mpandas.hashtable.Int64HashTable.get_item (pandas/hashtable.c:6554)\u001b[0;34m()\u001b[0m\n",
      "\u001b[0;31mKeyError\u001b[0m: 0"
     ]
    }
   ],
   "source": [
    "plt.plot(range(1,10),test[0],marker='o') \n",
    "plt.xlabel('Number of clusters')\n",
    "plt.ylabel('Distortion')\n",
    "plt.show()"
   ]
  },
  {
   "cell_type": "code",
   "execution_count": null,
   "metadata": {
    "collapsed": true
   },
   "outputs": [],
   "source": []
  }
 ],
 "metadata": {
  "anaconda-cloud": {},
  "kernelspec": {
   "display_name": "Python [Root]",
   "language": "python",
   "name": "Python [Root]"
  },
  "language_info": {
   "codemirror_mode": {
    "name": "ipython",
    "version": 3
   },
   "file_extension": ".py",
   "mimetype": "text/x-python",
   "name": "python",
   "nbconvert_exporter": "python",
   "pygments_lexer": "ipython3",
   "version": "3.5.2"
  }
 },
 "nbformat": 4,
 "nbformat_minor": 0
}
