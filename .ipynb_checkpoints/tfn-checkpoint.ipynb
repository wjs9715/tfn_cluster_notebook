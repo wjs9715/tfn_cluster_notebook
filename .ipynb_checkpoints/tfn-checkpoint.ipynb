{
 "cells": [
  {
   "cell_type": "code",
   "execution_count": 1,
   "metadata": {
    "collapsed": false
   },
   "outputs": [],
   "source": [
    "import pandas as pd\n",
    "import numpy as np\n",
    "from sklearn.cluster import KMeans\n",
    "from sklearn import preprocessing\n",
    "import matplotlib.pyplot as plt\n",
    "from sklearn.preprocessing import MinMaxScaler\n",
    "from numpy.random import random_sample\n",
    "from math import sqrt, log"
   ]
  },
  {
   "cell_type": "code",
   "execution_count": 2,
   "metadata": {
    "collapsed": false
   },
   "outputs": [],
   "source": [
    "df=pd.read_csv('./whiskies.csv')\n",
    "#print(df)\n",
    "df_col_sliced=df.loc[:,\n",
    "             ['Body',\n",
    "              'Sweetness',\n",
    "              'Smoky',\n",
    "              'Medicinal',\n",
    "              'Tobacco',\n",
    "              'Honey',\n",
    "              'Spicy',\n",
    "              'Winey',\n",
    "              'Nutty',\n",
    "              'Malty',\n",
    "              'Fruity',\n",
    "              'Floral',\n",
    "             ]]\n",
    "#print(df_col_sliced)\n",
    "df_to_array=df_col_sliced.as_matrix()\n",
    "#print(df_to_array)"
   ]
  },
  {
   "cell_type": "code",
   "execution_count": 3,
   "metadata": {
    "collapsed": false
   },
   "outputs": [
    {
     "name": "stdout",
     "output_type": "stream",
     "text": [
      "[[-0.07542547 -0.40765084  0.54172898 ...,  0.31606376  0.25509887\n",
      "   0.35566418]\n",
      " [ 1.00567291  0.99466805 -0.62298833 ...,  1.91497456  1.54559904\n",
      "   0.35566418]\n",
      " [-1.15652385  0.99466805  0.54172898 ...,  0.31606376  1.54559904\n",
      "   0.35566418]\n",
      " ..., \n",
      " [-2.23762223  0.99466805 -0.62298833 ...,  0.31606376 -1.0354013\n",
      "   0.35566418]\n",
      " [-0.07542547 -0.40765084 -0.62298833 ..., -1.28284703 -2.32590146\n",
      "  -1.99719114]\n",
      " [-0.07542547  0.99466805 -1.78770563 ...,  0.31606376  0.25509887\n",
      "  -0.82076348]]\n"
     ]
    },
    {
     "name": "stderr",
     "output_type": "stream",
     "text": [
      "/Users/wjs/anaconda/lib/python3.5/site-packages/sklearn/utils/validation.py:420: DataConversionWarning: Data with input dtype int64 was converted to float64 by the scale function.\n",
      "  warnings.warn(msg, DataConversionWarning)\n"
     ]
    }
   ],
   "source": [
    "x_scaled=preprocessing.scale(df_to_array)\n",
    "print(x_scaled)"
   ]
  },
  {
   "cell_type": "code",
   "execution_count": 4,
   "metadata": {
    "collapsed": false
   },
   "outputs": [
    {
     "name": "stdout",
     "output_type": "stream",
     "text": [
      "mean ref inertia=8.154682152518031\n",
      "0.0220193506588\n",
      "mean ref inertia=8.040909477002774\n",
      "0.0365667332946\n",
      "mean ref inertia=7.953448012792272\n",
      "0.0324961080403\n",
      "mean ref inertia=7.890860475229131\n",
      "0.0204106388263\n",
      "mean ref inertia=7.830493643200654\n",
      "0.0169772638982\n",
      "mean ref inertia=7.793065663161293\n",
      "0.0334033402809\n",
      "mean ref inertia=7.728022072882473\n",
      "0.0301455202549\n",
      "mean ref inertia=7.718972186946796\n",
      "0.0109992589567\n",
      "mean ref inertia=7.68396796986994\n",
      "0.0304193301345\n",
      "mean ref inertia=7.602894875297362\n",
      "0.0124477404229\n",
      "[ 0.02412099  0.04005685  0.0355977   0.02235873  0.01859766  0.03659153\n",
      "  0.03302276  0.01204908  0.03332271  0.01363582]\n",
      "[ 1.21542821  1.29779658  1.35193902  1.36880047  1.37632262  1.41090189\n",
      "  1.39136233  1.44801022  1.43814047  1.37911573]\n"
     ]
    }
   ],
   "source": [
    "def gap_stat_calculator(data, max_k=10, ref_data_numbers=5):\n",
    "    shape=data.shape\n",
    "    #print(shape)\n",
    "    \n",
    "    min_max_diff=data.max()-data.min()\n",
    "    #print(min_max_diff)\n",
    "    \n",
    "    gaps=np.zeros(max_k)\n",
    "    sk=np.zeros(max_k)\n",
    "    for k in range(1,max_k+1):\n",
    "        \n",
    "        y_pred_actual=KMeans(n_clusters=k).fit(data)\n",
    "        y_pred_actual_inertia=y_pred_actual.inertia_\n",
    "        #print(\"actual inertia={} at n_clusters={}\".format(y_pred_actual_inertia,k))\n",
    "        \n",
    "        ref_inertia=np.zeros(ref_data_numbers)\n",
    "        #print(ref_inertia)\n",
    "        \n",
    "        for rk in range(1,ref_data_numbers+1):\n",
    "            x_ref=random_sample((shape[0],shape[1]))*min_max_diff+data.min()\n",
    "            #print(x_ref)\n",
    "            #print(x_ref.shape)\n",
    "            \n",
    "            y_pred_ref=KMeans(n_clusters=k).fit(x_ref)\n",
    "            ref_inertia[rk-1]=log(y_pred_ref.inertia_)\n",
    "            #print(\"ref inertia={} at n_clusters={} at {}th loop\".format(y_pred_ref.inertia_,k,rk))\n",
    "            \n",
    "        ref_inertia_mean=np.mean(ref_inertia)\n",
    "        #print(ref_inertia)\n",
    "        print(\"mean ref inertia={}\".format(ref_inertia_mean))\n",
    "        sd=np.sqrt(sum((ref_inertia-ref_inertia_mean)**2)/ref_data_numbers)\n",
    "        print(sd)\n",
    "        sk[k-1]=sd\n",
    "        gaps[k-1]=ref_inertia_mean-log(y_pred_actual_inertia)\n",
    "    sk=sk*np.sqrt(1+(1/ref_data_numbers))\n",
    "    print(sk)\n",
    "    print(gaps)\n",
    "    return gaps, sk\n",
    "\n",
    "    \n",
    "testing=gap_stat_calculator(x_scaled)"
   ]
  },
  {
   "cell_type": "code",
   "execution_count": 5,
   "metadata": {
    "collapsed": false
   },
   "outputs": [
    {
     "name": "stdout",
     "output_type": "stream",
     "text": [
      "-0.0423115213441 0\n",
      "-0.0185447405205 1\n",
      "0.00549728972616 2\n",
      "0.0110755028648 3\n",
      "0.00201225935534 4\n",
      "0.05256232154 5\n",
      "-0.044598800463 6\n",
      "0.0431924494622 7\n",
      "0.0726605644786 8\n"
     ]
    }
   ],
   "source": [
    "for x in range(0,10):\n",
    "    gapk=testing[0][x]\n",
    "    #print(\"k={}\".format(gapk))\n",
    "    if x<9:\n",
    "        gapk1=testing[0][x+1]\n",
    "        #print(\"k+1={}\".format(gapk1))\n",
    "        gapkm=gapk1-testing[1][x+1]\n",
    "        #print(\"gapkm={}\".format(gapkm))\n",
    "        print(gapk-gapkm,x)"
   ]
  },
  {
   "cell_type": "code",
   "execution_count": 7,
   "metadata": {
    "collapsed": false
   },
   "outputs": [
    {
     "name": "stdout",
     "output_type": "stream",
     "text": [
      "num_c= 2 prev=1032.00 current=848.20\n",
      "dimin=183.80301722674108\n",
      "num_c= 3 prev=848.20 current=736.61\n",
      "dimin=111.58243134411464\n",
      "num_c= 4 prev=736.61 current=673.14\n",
      "dimin=63.47268404813326\n",
      "num_c= 5 prev=673.14 current=633.67\n",
      "dimin=39.47582285454382\n",
      "num_c= 6 prev=633.67 current=585.18\n",
      "dimin=48.48437011293515\n",
      "num_c= 7 prev=585.18 current=555.32\n",
      "dimin=29.85857380311927\n",
      "num_c= 8 prev=555.32 current=542.92\n",
      "dimin=12.40662488722262\n",
      "num_c= 9 prev=542.92 current=520.26\n",
      "dimin=22.657034480501352\n",
      "num_c= 10 prev=520.26 current=488.23\n",
      "dimin=32.02829862633615\n",
      "num_c= 11 prev=488.23 current=475.36\n",
      "dimin=12.871907655491952\n",
      "num_c= 12 prev=475.36 current=442.95\n",
      "dimin=32.40678201112246\n",
      "num_c= 13 prev=442.95 current=438.03\n",
      "dimin=4.918015565168616\n",
      "num_c= 14 prev=438.03 current=410.81\n",
      "dimin=27.222712581359247\n",
      "num_c= 15 prev=410.81 current=394.38\n",
      "dimin=16.42821633427019\n",
      "num_c= 16 prev=394.38 current=393.53\n",
      "dimin=0.8570787696705793\n",
      "num_c= 17 prev=393.53 current=371.11\n",
      "dimin=22.41529163831899\n",
      "num_c= 18 prev=371.11 current=368.94\n",
      "dimin=2.1675454963336165\n",
      "num_c= 19 prev=368.94 current=343.64\n",
      "dimin=25.30533574077424\n"
     ]
    }
   ],
   "source": [
    "distortions=[]\n",
    "for x in range(1,20):\n",
    "    y_pred_inertia=KMeans(n_clusters=x,init='k-means++').fit(x_scaled)\n",
    "    distortions.append(y_pred_inertia.inertia_)\n",
    "    if x==1:\n",
    "        prev_inertia=y_pred_inertia.inertia_\n",
    "        #print(\"num_c= 1 current={:.2f}\".format(prev_inertia))\n",
    "    else:\n",
    "        print(\"num_c= {} prev={:.2f} current={:.2f}\".format(x,prev_inertia,y_pred_inertia.inertia_))\n",
    "        diminishing_return=prev_inertia-y_pred_inertia.inertia_\n",
    "        print(\"dimin={}\".format(diminishing_return))\n",
    "        prev_inertia=y_pred_inertia.inertia_"
   ]
  },
  {
   "cell_type": "code",
   "execution_count": null,
   "metadata": {
    "collapsed": true
   },
   "outputs": [],
   "source": [
    "plt.plot(range(1,20),distortions,marker='o') \n",
    "plt.xlabel('Number of clusters')\n",
    "plt.ylabel('Distortion')\n",
    "plt.show()"
   ]
  },
  {
   "cell_type": "code",
   "execution_count": 6,
   "metadata": {
    "collapsed": true
   },
   "outputs": [],
   "source": [
    "y_pred=KMeans(n_clusters=3).fit(x_scaled)"
   ]
  },
  {
   "cell_type": "code",
   "execution_count": 7,
   "metadata": {
    "collapsed": false
   },
   "outputs": [
    {
     "name": "stdout",
     "output_type": "stream",
     "text": [
      "[[ 0.90739124 -1.04506852  1.60056289  2.21563617  1.05523818 -0.93096057\n",
      "   0.09078782 -0.46509205  0.09834071 -0.5560694  -0.8007649  -1.35550333]\n",
      " [ 0.46512372  0.04604057  0.0621395  -0.37595879 -0.17923531  0.75237801\n",
      "   0.33756492  0.7545676   0.43872743  0.45714413  0.14123121  0.00965604]\n",
      " [-0.62915878  0.24220426 -0.48094963 -0.28266827 -0.13447852 -0.37415332\n",
      "  -0.30428959 -0.50095819 -0.39020684 -0.22990578  0.0977208   0.35566418]]\n"
     ]
    }
   ],
   "source": [
    "print(y_pred.cluster_centers_)"
   ]
  },
  {
   "cell_type": "code",
   "execution_count": 51,
   "metadata": {
    "collapsed": false
   },
   "outputs": [
    {
     "name": "stdout",
     "output_type": "stream",
     "text": [
      "[0, 1, 2]\n",
      "[ 0.90739124 -1.04506852  1.60056289]\n",
      "1.46288561247\n",
      "[ 0.46512372  0.04604057  0.0621395 ]\n",
      "0.573303786992\n",
      "[-0.62915878  0.24220426 -0.48094963]\n",
      "-0.867904158411\n",
      "[ 1.46288561  0.57330379 -0.86790416]\n",
      "1.46288561247\n",
      "1\n"
     ]
    }
   ],
   "source": [
    "score=[0,1,2]\n",
    "\n",
    "def cluster_selector(characters,cluster_centers):\n",
    "    print(characters)\n",
    "    centers_selector=cluster_centers[0:,characters]\n",
    "    #print(centers_selector[0])\n",
    "    max_buffer=np.zeros(len(characters))\n",
    "  \n",
    "    for i,centers in enumerate(centers_selector):\n",
    "        print(centers)\n",
    "        inner_sum=sum(centers)\n",
    "        print(inner_sum)\n",
    "        max_buffer[i]=inner_sum\n",
    "        \n",
    "        \n",
    "    print(max_buffer)\n",
    "    print(max_buffer.max())\n",
    "    cluster_index=np.where(max_buffer==max_buffer.max())[0][0]+1\n",
    "    print(cluster_index)\n",
    "    \n",
    "    \n",
    "    \n",
    "cluster_selector(score,y_pred.cluster_centers_)"
   ]
  },
  {
   "cell_type": "code",
   "execution_count": null,
   "metadata": {
    "collapsed": true
   },
   "outputs": [],
   "source": []
  }
 ],
 "metadata": {
  "anaconda-cloud": {},
  "kernelspec": {
   "display_name": "Python [Root]",
   "language": "python",
   "name": "Python [Root]"
  },
  "language_info": {
   "codemirror_mode": {
    "name": "ipython",
    "version": 3
   },
   "file_extension": ".py",
   "mimetype": "text/x-python",
   "name": "python",
   "nbconvert_exporter": "python",
   "pygments_lexer": "ipython3",
   "version": "3.5.2"
  }
 },
 "nbformat": 4,
 "nbformat_minor": 0
}
